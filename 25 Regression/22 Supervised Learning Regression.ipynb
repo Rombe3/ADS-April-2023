{
 "cells": [
  {
   "cell_type": "markdown",
   "id": "244005c2",
   "metadata": {},
   "source": [
    "# Regression techniques "
   ]
  },
  {
   "cell_type": "markdown",
   "id": "bda8e535",
   "metadata": {},
   "source": [
    "## Table of Content \n",
    "\n",
    "### 1 Introduction to Regression:\n",
    "\n",
    "* Understand the concept of regression in machine learning\n",
    "* Differentiate between classification and regression tasks\n",
    "\n",
    "### 2 Simple Linear Regression:\n",
    "\n",
    "* Understand the concept of simple linear regression\n",
    "* Implement simple linear regression using scikit-learn\n",
    "* Evaluate the performance of a simple linear regression model\n",
    "\n",
    "### 3 Multiple Linear Regression:\n",
    "\n",
    "* Understand the concept of multiple linear regression\n",
    "* Implement multiple linear regression using scikit-learn\n",
    "* Evaluate the performance of a multiple linear regression model\n",
    "\n",
    "### 4 Polynomial Regression:\n",
    "\n",
    "* Understand the concept of polynomial regression\n",
    "* Implement polynomial regression using scikit-learn\n",
    "* Evaluate the performance of a polynomial regression model\n",
    "\n",
    "### 5 Regularization Techniques:\n",
    "\n",
    "* Understand the concept of overfitting and underfitting\n",
    "* Learn about Ridge regression (L2 regularization)\n",
    "* Learn about Lasso regression (L1 regularization)\n",
    "* Implement Ridge and Lasso regression using scikit-learn\n",
    "* Evaluate the performance of Ridge and Lasso regression models\n",
    "\n",
    "### 6 Support Vector Regression (SVR):\n",
    "\n",
    "* Understand the concept of support vector machines for regression\n",
    "* Implement support vector regression using scikit-learn\n",
    "* Evaluate the performance of a support vector regression model\n",
    "\n",
    "### 7 Decision Tree Regression:\n",
    "\n",
    "* Understand the concept of decision trees for regression\n",
    "* Implement decision tree regression using scikit-learn\n",
    "* Evaluate the performance of a decision tree regression model\n",
    "\n",
    "### 8 Random Forest Regression:\n",
    "\n",
    "* Understand the concept of ensemble learning and random forests for regression\n",
    "* Implement random forest regression using scikit-learn\n",
    "* Evaluate the performance of a random forest regression model\n",
    "\n",
    "### 9  Model Evaluation Metrics for Regression:\n",
    "\n",
    "* Learn about various evaluation metrics such as Mean Absolute Error (MAE), Mean Squared Error (MSE), and Root Mean Squared Error (RMSE)\n",
    "* Understand the concept of R-squared and Adjusted R-squared\n",
    "\n",
    "### 10  Model Selection and Hyperparameter Tuning:\n",
    "\n",
    "* Learn how to split datasets into training, validation, and testing sets\n",
    "* Understand the concept of cross-validation\n",
    "* Learn about grid search and randomized search for hyperparameter tuning\n",
    "* Implement model selection and hyperparameter tuning using scikit-learn \n",
    "\n",
    "### 11 Assignment: Predicting House Prices using Regression Models"
   ]
  },
  {
   "cell_type": "markdown",
   "id": "cdda3cc4",
   "metadata": {},
   "source": [
    "## 1 Introduction to Regression:\n",
    "\n",
    "Regression is a supervised learning technique in machine learning that focuses on predicting continuous numerical outcomes based on input features. The main objective of regression is to establish a relationship between the independent variables (input features) and the dependent variable (output)."
   ]
  },
  {
   "cell_type": "markdown",
   "id": "9b1b4782",
   "metadata": {},
   "source": [
    "### Understand the concept of regression in machine learning:\n",
    "\n",
    "In regression, we attempt to fit a model that best represents the relationship between the dependent and independent variables. This model is then used to make predictions on new, unseen data. Linear regression is a common type of regression where the relationship between the variables is modeled as a straight line.\n",
    "\n",
    "\n",
    "Examples of regression problems include predicting housing prices, estimating stock prices, or forecasting product sales."
   ]
  },
  {
   "cell_type": "markdown",
   "id": "26ab630d",
   "metadata": {},
   "source": [
    "### Differentiate between classification and regression tasks:\n",
    "\n",
    "While both classification and regression are types of supervised learning, they have different goals:\n",
    "\n",
    "* **Classification**: \n",
    "    The objective is to predict a category or class label for a given input. Examples include spam detection, image recognition, and medical diagnosis. Classification models predict discrete outcomes.\n",
    "\n",
    "    \n",
    "* **Regression**: \n",
    "    The objective is to predict a continuous numerical value for a given input. Examples include predicting housing prices, estimating stock prices, and forecasting product sales. Regression models predict continuous outcomes."
   ]
  },
  {
   "cell_type": "markdown",
   "id": "ee1084a2",
   "metadata": {},
   "source": [
    "In summary, regression is a supervised learning technique used to predict continuous numerical outcomes, while classification focuses on predicting discrete categorical outcomes. Both techniques play a crucial role in machine learning and can be applied to various real-world problems depending on the nature of the data and the desired output."
   ]
  },
  {
   "cell_type": "markdown",
   "id": "abd01975",
   "metadata": {},
   "source": [
    "## 2 Simple Linear Regression:"
   ]
  },
  {
   "cell_type": "markdown",
   "id": "f46e86de",
   "metadata": {},
   "source": [
    "Simple linear regression is a basic regression technique that models the relationship between a single independent variable (input feature) and a dependent variable (output) as a straight line. The goal is to find the best-fitting line that minimizes the error between predicted and actual values."
   ]
  },
  {
   "cell_type": "markdown",
   "id": "508ea344",
   "metadata": {},
   "source": [
    "### Understand the concept of simple linear regression:\n",
    "    \n",
    "    \n",
    "The equation for simple linear regression is:\n",
    "    \n",
    "    \n",
    "\n",
    "y = b0 + b1 * x\n",
    "\n",
    "\n",
    "where:\n",
    "\n",
    "* y is the dependent variable (output)\n",
    "* x is the independent variable (input feature)\n",
    "* b0 is the y-intercept\n",
    "* b1 is the slope of the line"
   ]
  },
  {
   "cell_type": "markdown",
   "id": "6f57e848",
   "metadata": {},
   "source": [
    "The objective is to find the optimal values for b0 and b1 that minimize the error between the predicted values and the actual data points."
   ]
  },
  {
   "cell_type": "markdown",
   "id": "c70280de",
   "metadata": {},
   "source": [
    "### Implement simple linear regression using scikit-learn:\n",
    "\n",
    "Here's a simple example of implementing simple linear regression using scikit-learn:"
   ]
  },
  {
   "cell_type": "code",
   "execution_count": 1,
   "id": "b823c4dc",
   "metadata": {},
   "outputs": [
    {
     "name": "stdout",
     "output_type": "stream",
     "text": [
      "Mean Squared Error: 7.888609052210118e-31\n"
     ]
    }
   ],
   "source": [
    "import numpy as np\n",
    "from sklearn.linear_model import LinearRegression\n",
    "from sklearn.model_selection import train_test_split\n",
    "from sklearn.metrics import mean_squared_error\n",
    "\n",
    "# Create sample data\n",
    "X = np.array([[1], [2], [3], [4], [5]])\n",
    "y = np.array([2, 4, 6, 8, 10])\n",
    "\n",
    "# Split data into training and testing sets\n",
    "X_train, X_test, y_train, y_test = train_test_split(X, y, test_size=0.2, random_state=42)\n",
    "\n",
    "# Create a linear regression model\n",
    "model = LinearRegression()\n",
    "\n",
    "# Fit the model on the training data\n",
    "model.fit(X_train, y_train)\n",
    "\n",
    "# Make predictions on the testing data\n",
    "y_pred = model.predict(X_test)\n",
    "\n",
    "# Evaluate the model\n",
    "mse = mean_squared_error(y_test, y_pred)\n",
    "print(\"Mean Squared Error:\", mse)\n"
   ]
  },
  {
   "cell_type": "markdown",
   "id": "7634261b",
   "metadata": {},
   "source": [
    "### Evaluate the performance of a simple linear regression model:\n",
    "\n",
    "To evaluate the performance of a simple linear regression model, you can use various metrics such as Mean Absolute Error (MAE), Mean Squared Error (MSE), Root Mean Squared Error (RMSE), or R-squared. In the example above, we used MSE as the evaluation metric. A lower MSE indicates a better fit of the model to the data. Other metrics may be more appropriate depending on the specific problem and data distribution."
   ]
  },
  {
   "cell_type": "markdown",
   "id": "44422867",
   "metadata": {},
   "source": [
    "## 3 Multiple Linear Regression:"
   ]
  },
  {
   "cell_type": "markdown",
   "id": "78589b77",
   "metadata": {},
   "source": [
    "Multiple linear regression is an extension of simple linear regression that models the relationship between multiple independent variables (input features) and a dependent variable (output). The goal is to find the best-fitting hyperplane that minimizes the error between predicted and actual values."
   ]
  },
  {
   "cell_type": "markdown",
   "id": "af99018e",
   "metadata": {},
   "source": [
    "### Understand the concept of multiple linear regression:\n",
    "\n",
    "\n",
    "The equation for multiple linear regression is:\n",
    "\n",
    "    \n",
    "y = b0 + b1 * x1 + b2 * x2 + ... + bn * xn\n",
    "\n",
    "\n",
    "where:\n",
    "\n",
    "    \n",
    "* y is the dependent variable (output)\n",
    "* x1, x2, ..., xn are the independent variables (input features)\n",
    "* b0 is the y-intercept\n",
    "* b1, b2, ..., bn are the coefficients of the independent variables\n",
    "\n",
    "The objective is to find the optimal values for b0, b1, b2, ..., bn that minimize the error between the predicted values and the actual data points."
   ]
  },
  {
   "cell_type": "markdown",
   "id": "5836324f",
   "metadata": {},
   "source": [
    "### Implement multiple linear regression using scikit-learn:\n",
    "\n",
    "Here's a simple example of implementing multiple linear regression using scikit-learn:"
   ]
  },
  {
   "cell_type": "code",
   "execution_count": 1,
   "id": "61f0e17d",
   "metadata": {},
   "outputs": [
    {
     "name": "stdout",
     "output_type": "stream",
     "text": [
      "Mean Squared Error: 0.0\n"
     ]
    }
   ],
   "source": [
    "import numpy as np\n",
    "import pandas as pd\n",
    "from sklearn.linear_model import LinearRegression\n",
    "from sklearn.model_selection import train_test_split\n",
    "from sklearn.metrics import mean_squared_error\n",
    "\n",
    "# Create sample data\n",
    "data = {\n",
    "    'x1': [1, 2, 3, 4, 5],\n",
    "    'x2': [2, 3, 4, 5, 6],\n",
    "    'y': [3, 5, 7, 9, 11]\n",
    "}\n",
    "df = pd.DataFrame(data)\n",
    "\n",
    "X = df[['x1', 'x2']]\n",
    "y = df['y']\n",
    "\n",
    "# Split data into training and testing sets\n",
    "X_train, X_test, y_train, y_test = train_test_split(X, y, test_size=0.2, random_state=42)\n",
    "\n",
    "# Create a linear regression model\n",
    "model = LinearRegression()\n",
    "\n",
    "# Fit the model on the training data\n",
    "model.fit(X_train, y_train)\n",
    "\n",
    "# Make predictions on the testing data\n",
    "y_pred = model.predict(X_test)\n",
    "\n",
    "# Evaluate the model\n",
    "mse = mean_squared_error(y_test, y_pred)\n",
    "print(\"Mean Squared Error:\", mse)\n"
   ]
  },
  {
   "cell_type": "code",
   "execution_count": 4,
   "id": "72f66048",
   "metadata": {},
   "outputs": [
    {
     "data": {
      "text/plain": [
       "8.881784197001252e-16"
      ]
     },
     "execution_count": 4,
     "metadata": {},
     "output_type": "execute_result"
    }
   ],
   "source": [
    "model.coef_\n",
    "model.intercept_"
   ]
  },
  {
   "cell_type": "markdown",
   "id": "41642aac",
   "metadata": {},
   "source": [
    "### Evaluate the performance of a multiple linear regression model:\n",
    "\n",
    "\n",
    "Evaluating the performance of a multiple linear regression model is similar to simple linear regression. You can use metrics such as Mean Absolute Error (MAE), Mean Squared Error (MSE), Root Mean Squared Error (RMSE), R-squared, or Adjusted R-squared to measure the performance. The choice of evaluation metric(s) depends on the specific problem and data distribution.\n",
    "\n",
    "\n",
    "\n",
    "In the example above, we used MSE as the evaluation metric. However, you can also calculate other metrics using the sklearn.metrics"
   ]
  },
  {
   "cell_type": "markdown",
   "id": "683f0508",
   "metadata": {},
   "source": [
    "## 4 Polynomial Regression:\n",
    "\n",
    "Polynomial regression is a type of regression analysis where the relationship between the independent variable(s) and the dependent variable is modeled as an nth-degree polynomial. Polynomial regression can model more complex relationships than simple linear regression.\n",
    "\n",
    "\n",
    "\n",
    "The degree of a polynomial is just a fancy way of saying how many times the variable (usually x) is multiplied by itself. For example, if we have a polynomial with the degree of 2, that means that x is multiplied by itself two times.\n",
    "\n",
    "\n",
    "So, when we talk about an nth-degree polynomial, we mean a polynomial that has a degree of n. It might look something like this:\n",
    "\n",
    "\n",
    "P(x) = 5x^3 + 2x^2 - 3x + 7\n",
    "\n",
    "\n",
    "This is an example of a third-degree polynomial, because x is multiplied by itself three times. The \"nth-degree\" just means that we don't know what the degree is yet, but we know it's some number n."
   ]
  },
  {
   "cell_type": "markdown",
   "id": "40e1f75f",
   "metadata": {},
   "source": [
    "### Understand the concept of polynomial regression:\n",
    "\n",
    "    \n",
    "In polynomial regression, the relationship between the independent variable(s) and the dependent variable is modeled as an nth-degree polynomial. The equation for polynomial regression with a single independent variable is:\n",
    "\n",
    "    \n",
    "y = b0 + b1 * x + b2 * x^2 + ... + bn * x^n\n",
    "\n",
    "\n",
    "where:\n",
    "\n",
    "* y is the dependent variable (output)\n",
    "* x is the independent variable (input feature)\n",
    "* b0 is the constant term\n",
    "* b1, b2, ..., bn are the coefficients of the independent variable's powers\n",
    "\n",
    "\n",
    "The objective is to find the optimal values for b0, b1, b2, ..., bn that minimize the error between the predicted values and the actual data points"
   ]
  },
  {
   "cell_type": "markdown",
   "id": "25bb4216",
   "metadata": {},
   "source": [
    "### Implement polynomial regression using scikit-learn:\n",
    "\n",
    "Here's a simple example of implementing polynomial regression using scikit-learn:"
   ]
  },
  {
   "cell_type": "code",
   "execution_count": 3,
   "id": "dea645f9",
   "metadata": {},
   "outputs": [
    {
     "name": "stdout",
     "output_type": "stream",
     "text": [
      "Mean Squared Error: 1.262177448353619e-29\n"
     ]
    }
   ],
   "source": [
    "import numpy as np\n",
    "import pandas as pd\n",
    "from sklearn.linear_model import LinearRegression\n",
    "from sklearn.model_selection import train_test_split\n",
    "from sklearn.metrics import mean_squared_error\n",
    "from sklearn.preprocessing import PolynomialFeatures\n",
    "\n",
    "# Create sample data\n",
    "data = {\n",
    "    'x': [1, 2, 3, 4, 5],\n",
    "    'y': [1, 4, 9, 16, 25]\n",
    "}\n",
    "df = pd.DataFrame(data)\n",
    "\n",
    "X = df[['x']]\n",
    "y = df['y']\n",
    "\n",
    "# Split data into training and testing sets\n",
    "X_train, X_test, y_train, y_test = train_test_split(X, y, test_size=0.2, random_state=42)\n",
    "\n",
    "# Create PolynomialFeatures object with the desired degree\n",
    "poly_features = PolynomialFeatures(degree=2)\n",
    "\n",
    "# Transform the input features to polynomial features\n",
    "X_train_poly = poly_features.fit_transform(X_train)\n",
    "X_test_poly = poly_features.transform(X_test)\n",
    "\n",
    "# Create a linear regression model\n",
    "model = LinearRegression()\n",
    "\n",
    "# Fit the model on the transformed training data\n",
    "model.fit(X_train_poly, y_train)\n",
    "\n",
    "# Make predictions on the transformed testing data\n",
    "y_pred = model.predict(X_test_poly)\n",
    "\n",
    "# Evaluate the model\n",
    "mse = mean_squared_error(y_test, y_pred)\n",
    "print(\"Mean Squared Error:\", mse)\n"
   ]
  },
  {
   "cell_type": "markdown",
   "id": "955c5044",
   "metadata": {},
   "source": [
    "### Evaluate the performance of a polynomial regression model:\n",
    "\n",
    "Evaluating the performance of a polynomial regression model is similar to simple and multiple linear regression. You can use metrics such as Mean Absolute Error (MAE), Mean Squared Error (MSE), Root Mean Squared Error (RMSE), R-squared, or Adjusted R-squared to measure the performance. The choice of evaluation metric(s) depends on the specific problem and data distribution."
   ]
  },
  {
   "cell_type": "markdown",
   "id": "661b9093",
   "metadata": {},
   "source": [
    "# 5 Regularization Techniques:"
   ]
  },
  {
   "cell_type": "markdown",
   "id": "6588b2b4",
   "metadata": {},
   "source": [
    "Regularization techniques are used in regression models to prevent overfitting, improve generalization, and balance model complexity."
   ]
  },
  {
   "cell_type": "markdown",
   "id": "270b6902",
   "metadata": {},
   "source": [
    "### Understand the concept of overfitting and underfitting:\n",
    "    \n",
    "* **Overfitting**: When a model performs well on the training data but poorly on the testing data, it is said to be overfitting. This occurs when the model captures the noise in the data, fitting it too closely, and thus fails to generalize well to new data.\n",
    "\n",
    "    \n",
    "* **Underfitting**: When a model performs poorly on both the training and testing data, it is said to be underfitting. This occurs when the model fails to capture the underlying patterns in the data, often due to excessive simplicity.\n",
    "\n"
   ]
  },
  {
   "cell_type": "markdown",
   "id": "f2d33a68",
   "metadata": {},
   "source": [
    "### Ridge regression (L2 regularization):\n",
    "\n",
    "Ridge regression is a technique that adds an L2 penalty term to the linear regression objective function. This penalty term is the sum of the squared coefficients multiplied by a regularization parameter (alpha). Ridge regression helps prevent overfitting by shrinking the coefficients, thereby reducing model complexity."
   ]
  },
  {
   "cell_type": "markdown",
   "id": "fbb138ee",
   "metadata": {},
   "source": [
    "### Lasso regression (L1 regularization):\n",
    "\n",
    "\n",
    "Lasso regression is another regularization technique that adds an L1 penalty term to the linear regression objective function. The L1 penalty term is the sum of the absolute values of the coefficients multiplied by a regularization parameter (alpha). Lasso regression not only helps prevent overfitting but can also induce sparsity in the model, setting some coefficients to zero and effectively performing feature selection."
   ]
  },
  {
   "cell_type": "markdown",
   "id": "becd117e",
   "metadata": {},
   "source": [
    "### Implement Ridge and Lasso regression using scikit-learn:\n",
    "\n",
    "Here's a simple example of implementing Ridge and Lasso regression using scikit-learn:"
   ]
  },
  {
   "cell_type": "code",
   "execution_count": 4,
   "id": "7d4c7642",
   "metadata": {},
   "outputs": [
    {
     "name": "stdout",
     "output_type": "stream",
     "text": [
      "Mean Squared Error (Ridge): 0.018261504747991222\n",
      "Mean Squared Error (Lasso): 0.32653061224489766\n"
     ]
    }
   ],
   "source": [
    "import numpy as np\n",
    "import pandas as pd\n",
    "from sklearn.linear_model import Ridge, Lasso\n",
    "from sklearn.model_selection import train_test_split\n",
    "from sklearn.metrics import mean_squared_error\n",
    "\n",
    "# Create sample data\n",
    "data = {\n",
    "    'x1': [1, 2, 3, 4, 5],\n",
    "    'x2': [2, 3, 4, 5, 6],\n",
    "    'y': [3, 5, 7, 9, 11]\n",
    "}\n",
    "df = pd.DataFrame(data)\n",
    "\n",
    "X = df[['x1', 'x2']]\n",
    "y = df['y']\n",
    "\n",
    "# Split data into training and testing sets\n",
    "X_train, X_test, y_train, y_test = train_test_split(X, y, test_size=0.2, random_state=42)\n",
    "\n",
    "# Create Ridge and Lasso regression models\n",
    "ridge = Ridge(alpha=1)\n",
    "lasso = Lasso(alpha=1)\n",
    "\n",
    "# Fit the models on the training data\n",
    "ridge.fit(X_train, y_train)\n",
    "lasso.fit(X_train, y_train)\n",
    "\n",
    "# Make predictions on the testing data\n",
    "y_pred_ridge = ridge.predict(X_test)\n",
    "y_pred_lasso = lasso.predict(X_test)\n",
    "\n",
    "# Evaluate the models\n",
    "mse_ridge = mean_squared_error(y_test, y_pred_ridge)\n",
    "mse_lasso = mean_squared_error(y_test, y_pred_lasso)\n",
    "print(\"Mean Squared Error (Ridge):\", mse_ridge)\n",
    "print(\"Mean Squared Error (Lasso):\", mse_lasso)\n"
   ]
  },
  {
   "cell_type": "markdown",
   "id": "25278f9e",
   "metadata": {},
   "source": [
    "### Evaluate the performance of Ridge and Lasso regression models:\n",
    "\n",
    "Evaluating the performance of Ridge and Lasso regression models is similar to other regression models. You can use metrics such as Mean Absolute Error (MAE), Mean Squared Error (MSE), Root Mean Squared Error (RMSE), R-squared, or Adjusted R-squared to measure the performance. The choice of evaluation metric(s) depends on the specific problem and data distribution."
   ]
  },
  {
   "cell_type": "markdown",
   "id": "f4059431",
   "metadata": {},
   "source": [
    "### 6 Support Vector Regression (SVR):\n",
    "\n",
    "Support Vector Regression is an extension of Support Vector Machines (SVM) for solving regression problems. The goal of SVR is to find a function that best approximates the relationship between input features and output values while considering a margin of tolerance."
   ]
  },
  {
   "cell_type": "markdown",
   "id": "1e422075",
   "metadata": {},
   "source": [
    "### Understand the concept of support vector machines for regression:\n",
    "\n",
    "\n",
    "In SVR, the objective is to fit a hyperplane that has a maximum margin while allowing some tolerance for the error in the predicted values. The margin of tolerance is determined by a parameter called epsilon (ε). SVR tries to minimize the error within this margin while also minimizing the model's complexity by penalizing large coefficients.\n",
    "\n",
    "\n",
    "There are different types of SVR, such as linear, polynomial, and radial basis function (RBF) kernel. The choice of kernel and its parameters can significantly impact the model's performance."
   ]
  },
  {
   "cell_type": "markdown",
   "id": "7bbba165",
   "metadata": {},
   "source": [
    "### Implement support vector regression using scikit-learn:\n",
    "\n",
    "Here's a simple example of implementing support vector regression using scikit-learn:"
   ]
  },
  {
   "cell_type": "code",
   "execution_count": 5,
   "id": "3b991136",
   "metadata": {},
   "outputs": [
    {
     "name": "stdout",
     "output_type": "stream",
     "text": [
      "Mean Squared Error: 50.44443474343727\n"
     ]
    }
   ],
   "source": [
    "import numpy as np\n",
    "import pandas as pd\n",
    "from sklearn.svm import SVR\n",
    "from sklearn.model_selection import train_test_split\n",
    "from sklearn.metrics import mean_squared_error\n",
    "\n",
    "# Create sample data\n",
    "data = {\n",
    "    'x': [1, 2, 3, 4, 5],\n",
    "    'y': [1, 4, 9, 16, 25]\n",
    "}\n",
    "df = pd.DataFrame(data)\n",
    "\n",
    "X = df[['x']]\n",
    "y = df['y']\n",
    "\n",
    "# Split data into training and testing sets\n",
    "X_train, X_test, y_train, y_test = train_test_split(X, y, test_size=0.2, random_state=42)\n",
    "\n",
    "# Create a support vector regression model (RBF kernel)\n",
    "svr = SVR(kernel='rbf', C=1.0, epsilon=0.1)\n",
    "\n",
    "# Fit the model on the training data\n",
    "svr.fit(X_train, y_train)\n",
    "\n",
    "# Make predictions on the testing data\n",
    "y_pred = svr.predict(X_test)\n",
    "\n",
    "# Evaluate the model\n",
    "mse = mean_squared_error(y_test, y_pred)\n",
    "print(\"Mean Squared Error:\", mse)\n"
   ]
  },
  {
   "cell_type": "markdown",
   "id": "cd6ab2e9",
   "metadata": {},
   "source": [
    "### Evaluate the performance of a support vector regression model:\n",
    "\n",
    "Evaluating the performance of a support vector regression model is similar to other regression models. You can use metrics such as Mean Absolute Error (MAE), Mean Squared Error (MSE), Root Mean Squared Error (RMSE), R-squared, or Adjusted R-squared to measure the performance. The choice of evaluation metric(s) depends on the specific problem and data distribution"
   ]
  },
  {
   "cell_type": "markdown",
   "id": "9797bef1",
   "metadata": {},
   "source": [
    "## 7 Decision Tree Regression:\n",
    "\n",
    "Decision Tree Regression is a type of regression model that uses a tree-like structure to represent the relationship between input features and output values. It recursively splits the data into subsets based on the input features, aiming to minimize the variance of the output values in each subset."
   ]
  },
  {
   "cell_type": "markdown",
   "id": "105123a0",
   "metadata": {},
   "source": [
    "### Understand the concept of decision trees for regression:\n",
    "\n",
    "A decision tree for regression works by recursively splitting the data into subsets based on the input features. The splitting criteria aim to minimize the variance of the output values in each subset. At each leaf node of the tree, the predicted value is the average of the output values in that subset. Decision trees can be prone to overfitting, especially when they grow too deep, and may require pruning or limiting the maximum depth to improve generalization."
   ]
  },
  {
   "cell_type": "markdown",
   "id": "46588fd2",
   "metadata": {},
   "source": [
    "### Implement decision tree regression using scikit-learn:\n",
    "\n",
    "Here's a simple example of implementing decision tree regression using scikit-learn:"
   ]
  },
  {
   "cell_type": "code",
   "execution_count": 6,
   "id": "6e551647",
   "metadata": {},
   "outputs": [
    {
     "name": "stdout",
     "output_type": "stream",
     "text": [
      "Mean Squared Error: 9.0\n"
     ]
    }
   ],
   "source": [
    "import numpy as np\n",
    "import pandas as pd\n",
    "from sklearn.tree import DecisionTreeRegressor\n",
    "from sklearn.model_selection import train_test_split\n",
    "from sklearn.metrics import mean_squared_error\n",
    "\n",
    "# Create sample data\n",
    "data = {\n",
    "    'x': [1, 2, 3, 4, 5],\n",
    "    'y': [1, 4, 9, 16, 25]\n",
    "}\n",
    "df = pd.DataFrame(data)\n",
    "\n",
    "X = df[['x']]\n",
    "y = df['y']\n",
    "\n",
    "# Split data into training and testing sets\n",
    "X_train, X_test, y_train, y_test = train_test_split(X, y, test_size=0.2, random_state=42)\n",
    "\n",
    "# Create a decision tree regression model\n",
    "dtree = DecisionTreeRegressor(max_depth=3, random_state=42)\n",
    "\n",
    "# Fit the model on the training data\n",
    "dtree.fit(X_train, y_train)\n",
    "\n",
    "# Make predictions on the testing data\n",
    "y_pred = dtree.predict(X_test)\n",
    "\n",
    "# Evaluate the model\n",
    "mse = mean_squared_error(y_test, y_pred)\n",
    "print(\"Mean Squared Error:\", mse)\n"
   ]
  },
  {
   "cell_type": "markdown",
   "id": "710e5930",
   "metadata": {},
   "source": [
    "### Evaluate the performance of a decision tree regression model:\n",
    "\n",
    "Evaluating the performance of a decision tree regression model is similar to other regression models. You can use metrics such as Mean Absolute Error (MAE), Mean Squared Error (MSE), Root Mean Squared Error (RMSE), R-squared, or Adjusted R-squared to measure the performance. The choice of evaluation metric(s) depends on the specific problem and data distribution."
   ]
  },
  {
   "cell_type": "markdown",
   "id": "660c63bc",
   "metadata": {},
   "source": [
    "### 8 Random Forest Regression:\n",
    "\n",
    "Random Forest Regression is an ensemble learning method that combines multiple decision trees to improve the model's performance and generalization. Each decision tree in the ensemble is built using a random subset of features and data points, which helps reduce the correlation between the trees and increase the model's robustness."
   ]
  },
  {
   "cell_type": "markdown",
   "id": "53cd3988",
   "metadata": {},
   "source": [
    "### Understand the concept of ensemble learning and random forests for regression:\n",
    "\n",
    "Ensemble learning is a technique that combines multiple weak models to create a more powerful and accurate model. In the case of Random Forest Regression, multiple decision trees are combined to form an ensemble.\n",
    "\n",
    "\n",
    "\n",
    "A random forest works by constructing multiple decision trees, each trained on a random subset of the input features and data points. The random subsets are obtained using bootstrapping, which involves sampling with replacement. The final prediction of the random forest is obtained by averaging the predictions of all the individual decision trees in the ensemble.\n",
    "\n",
    "\n",
    "\n",
    "This approach reduces the correlation between the trees and helps mitigate overfitting, making random forests more robust and accurate compared to individual decision trees."
   ]
  },
  {
   "cell_type": "markdown",
   "id": "beacceda",
   "metadata": {},
   "source": [
    "### Implement random forest regression using scikit-learn:\n",
    "\n",
    "Here's a simple example of implementing random forest regression using scikit-learn:"
   ]
  },
  {
   "cell_type": "code",
   "execution_count": 7,
   "id": "7b8fce61",
   "metadata": {},
   "outputs": [
    {
     "name": "stdout",
     "output_type": "stream",
     "text": [
      "Mean Squared Error: 0.008099999999999975\n"
     ]
    }
   ],
   "source": [
    "import numpy as np\n",
    "import pandas as pd\n",
    "from sklearn.ensemble import RandomForestRegressor\n",
    "from sklearn.model_selection import train_test_split\n",
    "from sklearn.metrics import mean_squared_error\n",
    "\n",
    "# Create sample data\n",
    "data = {\n",
    "    'x': [1, 2, 3, 4, 5],\n",
    "    'y': [1, 4, 9, 16, 25]\n",
    "}\n",
    "df = pd.DataFrame(data)\n",
    "\n",
    "X = df[['x']]\n",
    "y = df['y']\n",
    "\n",
    "# Split data into training and testing sets\n",
    "X_train, X_test, y_train, y_test = train_test_split(X, y, test_size=0.2, random_state=42)\n",
    "\n",
    "# Create a random forest regression model\n",
    "rforest = RandomForestRegressor(n_estimators=100, max_depth=3, random_state=42)\n",
    "\n",
    "# Fit the model on the training data\n",
    "rforest.fit(X_train, y_train)\n",
    "\n",
    "# Make predictions on the testing data\n",
    "y_pred = rforest.predict(X_test)\n",
    "\n",
    "# Evaluate the model\n",
    "mse = mean_squared_error(y_test, y_pred)\n",
    "print(\"Mean Squared Error:\", mse)\n"
   ]
  },
  {
   "cell_type": "markdown",
   "id": "2c77929c",
   "metadata": {},
   "source": [
    "### Evaluate the performance of a random forest regression model:\n",
    "\n",
    "Evaluating the performance of a random forest regression model is similar to other regression models. You can use metrics such as Mean Absolute Error (MAE), Mean Squared Error (MSE), Root Mean Squared Error (RMSE), R-squared, or Adjusted R-squared to measure the performance. The choice of evaluation metric(s) depends on the specific problem and data distribution."
   ]
  },
  {
   "cell_type": "markdown",
   "id": "61c0a7ee",
   "metadata": {},
   "source": [
    "## 9 Model Evaluation Metrics for Regression:\n",
    "\n",
    "When evaluating the performance of regression models, various metrics can be used to measure how well the model fits the data and generalizes to new data points. Some common evaluation metrics for regression include Mean Absolute Error (MAE), Mean Squared Error (MSE), Root Mean Squared Error (RMSE), R-squared, and Adjusted R-squared."
   ]
  },
  {
   "cell_type": "markdown",
   "id": "62e33dc2",
   "metadata": {},
   "source": [
    "### Mean Absolute Error (MAE):\n",
    "\n",
    "\n",
    "MAE measures the average absolute difference between the predicted values and the actual values. It is a simple and intuitive metric that gives an idea of the average magnitude of the errors.\n",
    "\n",
    "\n",
    "\n",
    "Formula: MAE = (1/n) * Σ|y_true - y_pred|, \n",
    "\n",
    "\n",
    "where \n",
    "* n is the number of samples, \n",
    "* y_true are the true values, and \n",
    "* y_pred are the predicted values."
   ]
  },
  {
   "cell_type": "markdown",
   "id": "b794e0c5",
   "metadata": {},
   "source": [
    "### Mean Squared Error (MSE):\n",
    "\n",
    "\n",
    "MSE measures the average squared difference between the predicted values and the actual values. It emphasizes larger errors by squaring them, making it more sensitive to outliers than MAE.\n",
    "\n",
    "\n",
    "\n",
    "Formula: MSE = (1/n) * Σ(y_true - y_pred)^2"
   ]
  },
  {
   "cell_type": "markdown",
   "id": "b347c5f9",
   "metadata": {},
   "source": [
    "### Root Mean Squared Error (RMSE):\n",
    "\n",
    "\n",
    "RMSE is the square root of the MSE. It represents the standard deviation of the residuals, which are the differences between the predicted values and the actual values. Like MSE, it is sensitive to outliers but has the same unit as the original data, making it easier to interpret.\n",
    "\n",
    "\n",
    "Formula: RMSE = √(MSE)"
   ]
  },
  {
   "cell_type": "markdown",
   "id": "d9442835",
   "metadata": {},
   "source": [
    "### R-squared:\n",
    "    \n",
    "    \n",
    "R-squared, also known as the coefficient of determination, measures the proportion of variance in the dependent variable that is predictable from the independent variables. It ranges from 0 to 1, with higher values indicating a better fit. An R-squared value of 1 indicates that the model explains all the variability in the data, while a value of 0 indicates that the model does not explain any variability.\n",
    "\n",
    "\n",
    "Formula: R^2 = 1 - (Σ(y_true - y_pred)^2) / (Σ(y_true - y_mean)^2), \n",
    "\n",
    "where \n",
    "\n",
    "* y_mean is the mean of the true values."
   ]
  },
  {
   "cell_type": "markdown",
   "id": "db1d7e75",
   "metadata": {},
   "source": [
    "### Adjusted R-squared:\n",
    "\n",
    "\n",
    "Adjusted R-squared is a modified version of R-squared that takes into account the number of independent variables (features) in the model. It is useful when comparing models with different numbers of features, as it penalizes models that include irrelevant features. Unlike R-squared, Adjusted R-squared can decrease when adding a new feature that does not improve the model's performance.\n",
    "\n",
    "\n",
    "\n",
    "Formula: Adjusted R^2 = 1 - [(1 - R^2) * (n - 1) / (n - k - 1)], \n",
    "    \n",
    "where \n",
    "\n",
    "* n is the number of samples, \n",
    "* k is the number of independent variables (features)."
   ]
  },
  {
   "cell_type": "markdown",
   "id": "08d539d3",
   "metadata": {},
   "source": [
    "### Implement random forest regression using scikit-learn:"
   ]
  },
  {
   "cell_type": "code",
   "execution_count": 9,
   "id": "065e900e",
   "metadata": {},
   "outputs": [
    {
     "name": "stdout",
     "output_type": "stream",
     "text": [
      "Mean Absolute Error: 0.08999999999999986\n",
      "Mean Squared Error: 0.008099999999999975\n",
      "Root Mean Squared Error: 0.08999999999999986\n",
      "R-squared: nan\n"
     ]
    },
    {
     "name": "stderr",
     "output_type": "stream",
     "text": [
      "C:\\Users\\John\\anaconda3\\lib\\site-packages\\sklearn\\metrics\\_regression.py:796: UndefinedMetricWarning: R^2 score is not well-defined with less than two samples.\n",
      "  warnings.warn(msg, UndefinedMetricWarning)\n"
     ]
    }
   ],
   "source": [
    "from sklearn.metrics import mean_absolute_error, mean_squared_error, r2_score\n",
    "\n",
    "mae = mean_absolute_error(y_test, y_pred)\n",
    "mse = mean_squared_error(y_test, y_pred)\n",
    "rmse = np.sqrt(mse)\n",
    "r2 = r2_score(y_test, y_pred)\n",
    "\n",
    "print(\"Mean Absolute Error:\", mae)\n",
    "print(\"Mean Squared Error:\", mse)\n",
    "print(\"Root Mean Squared Error:\", rmse)\n",
    "print(\"R-squared:\", r2)\n"
   ]
  },
  {
   "cell_type": "markdown",
   "id": "8f592bf2",
   "metadata": {},
   "source": [
    "## 10 Model Selection and Hyperparameter Tuning:\n",
    "\n",
    "Model selection and hyperparameter tuning are essential steps in building effective machine learning models. These processes help ensure that the chosen model generalizes well to new data points and performs optimally."
   ]
  },
  {
   "cell_type": "markdown",
   "id": "d9ef7e60",
   "metadata": {},
   "source": [
    "### Split datasets into training, validation, and testing sets:\n",
    "\n",
    "To evaluate a model's performance and tune hyperparameters, it's crucial to split the dataset into separate sets: training, validation, and testing. \n",
    "\n",
    "* The training set is used to fit the model,\n",
    "* the validation set is used to tune hyperparameters and select the best model, \n",
    "* testing set is used to evaluate the final model's performance."
   ]
  },
  {
   "cell_type": "markdown",
   "id": "3c158f84",
   "metadata": {},
   "source": [
    "### Understand the concept of cross-validation:\n",
    "\n",
    "* Cross-validation is a technique used to assess the performance of a model by training and evaluating it on different subsets of the data. \n",
    "* The most common form of cross-validation is k-fold cross-validation, where the data is divided into k equal-sized folds. The model is trained on k-1 folds and evaluated on the remaining fold. This process is repeated k times, with each fold used as the validation set once. The average performance across all iterations is used as the model's performance estimate."
   ]
  },
  {
   "cell_type": "markdown",
   "id": "85b5db0a",
   "metadata": {},
   "source": [
    "### Grid search and randomized search for hyperparameter tuning:\n",
    "\n",
    "Grid search and randomized search are two methods for hyperparameter tuning:\n",
    "\n",
    "* **Grid search**: An exhaustive search over a specified range of hyperparameter values. The model is trained and evaluated for each combination of hyperparameter values, and the combination that yields the best performance is chosen.\n",
    "\n",
    "* **Randomized search**: A more efficient alternative to grid search. Instead of trying every possible combination, a fixed number of random combinations of hyperparameter values are sampled. This approach can be faster and yield similar results compared to grid search, especially when dealing with a large number of hyperparameters."
   ]
  },
  {
   "cell_type": "markdown",
   "id": "eb6f4972",
   "metadata": {},
   "source": [
    "### Implement model selection and hyperparameter tuning using scikit-learn:\n",
    "    \n",
    "Scikit-learn provides various tools for model selection and hyperparameter tuning, such as train_test_split, cross_val_score, GridSearchCV, and RandomizedSearchCV."
   ]
  },
  {
   "cell_type": "markdown",
   "id": "db63c2c2",
   "metadata": {},
   "source": [
    "### Example of using grid search for hyperparameter tuning:"
   ]
  },
  {
   "cell_type": "code",
   "execution_count": 10,
   "id": "72cf3e52",
   "metadata": {},
   "outputs": [
    {
     "name": "stderr",
     "output_type": "stream",
     "text": [
      "C:\\Users\\John\\anaconda3\\lib\\site-packages\\sklearn\\utils\\deprecation.py:87: FutureWarning: Function load_boston is deprecated; `load_boston` is deprecated in 1.0 and will be removed in 1.2.\n",
      "\n",
      "    The Boston housing prices dataset has an ethical problem. You can refer to\n",
      "    the documentation of this function for further details.\n",
      "\n",
      "    The scikit-learn maintainers therefore strongly discourage the use of this\n",
      "    dataset unless the purpose of the code is to study and educate about\n",
      "    ethical issues in data science and machine learning.\n",
      "\n",
      "    In this special case, you can fetch the dataset from the original\n",
      "    source::\n",
      "\n",
      "        import pandas as pd\n",
      "        import numpy as np\n",
      "\n",
      "\n",
      "        data_url = \"http://lib.stat.cmu.edu/datasets/boston\"\n",
      "        raw_df = pd.read_csv(data_url, sep=\"\\s+\", skiprows=22, header=None)\n",
      "        data = np.hstack([raw_df.values[::2, :], raw_df.values[1::2, :2]])\n",
      "        target = raw_df.values[1::2, 2]\n",
      "\n",
      "    Alternative datasets include the California housing dataset (i.e.\n",
      "    :func:`~sklearn.datasets.fetch_california_housing`) and the Ames housing\n",
      "    dataset. You can load the datasets as follows::\n",
      "\n",
      "        from sklearn.datasets import fetch_california_housing\n",
      "        housing = fetch_california_housing()\n",
      "\n",
      "    for the California housing dataset and::\n",
      "\n",
      "        from sklearn.datasets import fetch_openml\n",
      "        housing = fetch_openml(name=\"house_prices\", as_frame=True)\n",
      "\n",
      "    for the Ames housing dataset.\n",
      "    \n",
      "  warnings.warn(msg, category=FutureWarning)\n"
     ]
    },
    {
     "name": "stdout",
     "output_type": "stream",
     "text": [
      "Best hyperparameters: {'max_depth': None, 'min_samples_split': 2, 'n_estimators': 100}\n",
      "Best score: 14.858836289320982\n"
     ]
    }
   ],
   "source": [
    "import numpy as np\n",
    "from sklearn.datasets import load_boston\n",
    "from sklearn.model_selection import train_test_split, GridSearchCV\n",
    "from sklearn.ensemble import RandomForestRegressor\n",
    "\n",
    "# Load data\n",
    "data = load_boston()\n",
    "X = data.data\n",
    "y = data.target\n",
    "\n",
    "# Split data into training and testing sets\n",
    "X_train, X_test, y_train, y_test = train_test_split(X, y, test_size=0.2, random_state=42)\n",
    "\n",
    "# Define the hyperparameter grid\n",
    "param_grid = {\n",
    "    'n_estimators': [10, 50, 100, 200],\n",
    "    'max_depth': [None, 10, 20, 30],\n",
    "    'min_samples_split': [2, 5, 10]\n",
    "}\n",
    "\n",
    "# Create a random forest regressor\n",
    "rforest = RandomForestRegressor(random_state=42)\n",
    "\n",
    "# Instantiate the grid search with cross-validation\n",
    "grid_search = GridSearchCV(estimator=rforest, param_grid=param_grid, cv=5, scoring='neg_mean_squared_error')\n",
    "\n",
    "# Fit the grid search to the data\n",
    "grid_search.fit(X_train, y_train)\n",
    "\n",
    "# Print the best combination of hyperparameters and their score\n",
    "print(\"Best hyperparameters:\", grid_search.best_params_)\n",
    "print(\"Best score:\", -grid_search.best_score_)\n"
   ]
  },
  {
   "cell_type": "markdown",
   "id": "cf4e9034",
   "metadata": {},
   "source": [
    "### Randomized search for hyperparameter tuning with scikit-learn"
   ]
  },
  {
   "cell_type": "code",
   "execution_count": 11,
   "id": "0cde2d1b",
   "metadata": {},
   "outputs": [
    {
     "name": "stderr",
     "output_type": "stream",
     "text": [
      "C:\\Users\\John\\anaconda3\\lib\\site-packages\\sklearn\\utils\\deprecation.py:87: FutureWarning: Function load_boston is deprecated; `load_boston` is deprecated in 1.0 and will be removed in 1.2.\n",
      "\n",
      "    The Boston housing prices dataset has an ethical problem. You can refer to\n",
      "    the documentation of this function for further details.\n",
      "\n",
      "    The scikit-learn maintainers therefore strongly discourage the use of this\n",
      "    dataset unless the purpose of the code is to study and educate about\n",
      "    ethical issues in data science and machine learning.\n",
      "\n",
      "    In this special case, you can fetch the dataset from the original\n",
      "    source::\n",
      "\n",
      "        import pandas as pd\n",
      "        import numpy as np\n",
      "\n",
      "\n",
      "        data_url = \"http://lib.stat.cmu.edu/datasets/boston\"\n",
      "        raw_df = pd.read_csv(data_url, sep=\"\\s+\", skiprows=22, header=None)\n",
      "        data = np.hstack([raw_df.values[::2, :], raw_df.values[1::2, :2]])\n",
      "        target = raw_df.values[1::2, 2]\n",
      "\n",
      "    Alternative datasets include the California housing dataset (i.e.\n",
      "    :func:`~sklearn.datasets.fetch_california_housing`) and the Ames housing\n",
      "    dataset. You can load the datasets as follows::\n",
      "\n",
      "        from sklearn.datasets import fetch_california_housing\n",
      "        housing = fetch_california_housing()\n",
      "\n",
      "    for the California housing dataset and::\n",
      "\n",
      "        from sklearn.datasets import fetch_openml\n",
      "        housing = fetch_openml(name=\"house_prices\", as_frame=True)\n",
      "\n",
      "    for the Ames housing dataset.\n",
      "    \n",
      "  warnings.warn(msg, category=FutureWarning)\n"
     ]
    },
    {
     "name": "stdout",
     "output_type": "stream",
     "text": [
      "Best hyperparameters: {'max_depth': 15, 'min_samples_split': 6, 'n_estimators': 33}\n",
      "Best score: 13.878459555873864\n"
     ]
    }
   ],
   "source": [
    "import numpy as np\n",
    "from sklearn.datasets import load_boston\n",
    "from sklearn.model_selection import train_test_split, RandomizedSearchCV, KFold\n",
    "from sklearn.ensemble import RandomForestRegressor\n",
    "from scipy.stats import randint\n",
    "\n",
    "# Load data\n",
    "data = load_boston()\n",
    "X = data.data\n",
    "y = data.target\n",
    "\n",
    "# Split data into training and testing sets\n",
    "X_train, X_test, y_train, y_test = train_test_split(X, y, test_size=0.2, random_state=42)\n",
    "\n",
    "# Define the hyperparameter distribution\n",
    "param_dist = {\n",
    "    'n_estimators': randint(10, 200),\n",
    "    'max_depth': randint(1, 30),\n",
    "    'min_samples_split': randint(2, 10)\n",
    "}\n",
    "\n",
    "# Create a random forest regressor\n",
    "rforest = RandomForestRegressor(random_state=42)\n",
    "\n",
    "# Instantiate the randomized search with cross-validation\n",
    "kfold = KFold(n_splits=5, shuffle=True, random_state=42)\n",
    "random_search = RandomizedSearchCV(estimator=rforest, param_distributions=param_dist, n_iter=50, cv=kfold, scoring='neg_mean_squared_error', random_state=42)\n",
    "\n",
    "# Fit the randomized search to the data\n",
    "random_search.fit(X_train, y_train)\n",
    "\n",
    "# Print the best combination of hyperparameters and their score\n",
    "print(\"Best hyperparameters:\", random_search.best_params_)\n",
    "print(\"Best score:\", -random_search.best_score_)\n"
   ]
  },
  {
   "cell_type": "markdown",
   "id": "11d6724a",
   "metadata": {},
   "source": [
    "## Assignment: Predicting House Prices using Regression Models"
   ]
  },
  {
   "cell_type": "markdown",
   "id": "d9c6dd21",
   "metadata": {},
   "source": [
    "### Objective: \n",
    "\n",
    "The goal of this assignment is to apply the concepts learned about regression models to predict house prices using a given dataset. You will use various regression models, evaluate their performance, and tune their hyperparameters.\n",
    "\n",
    "### Dataset: \n",
    "\n",
    "Use the Boston Housing dataset, which is available in scikit-learn's datasets module.\n",
    "\n",
    "### Instructions:\n",
    "\n",
    "* 1 Import necessary libraries and load the dataset.\n",
    "* 2 Perform exploratory data analysis and preprocessing (e.g., check for missing values, visualize the data, etc.).\n",
    "* 3 Split the dataset into training and testing sets.\n",
    "* 4 Implement the following regression models:\n",
    "\n",
    "    * Simple Linear Regression (choose an appropriate feature)\n",
    "    * Multiple Linear Regression\n",
    "    * Polynomial Regression\n",
    "    * Ridge Regression\n",
    "    * Lasso Regression\n",
    "    * Support Vector Regression\n",
    "    * Decision Tree Regression\n",
    "    * Random Forest Regression\n",
    "* 5 Evaluate the performance of each model using appropriate evaluation metrics, such as MAE, MSE, RMSE, R-squared, or Adjusted R-squared.\n",
    "* 6 Perform cross-validation and hyperparameter tuning for the models that require it, using grid search or randomized search.\n",
    "* 7 Compare the performance of the different models and discuss your findings.\n",
    "* 8 Choose the best model based on the evaluation metrics and provide insights into its performance and predictions.\n",
    "\n",
    "\n",
    "Submission: Prepare a report or Jupyter Notebook that includes your code, visualizations, results, and explanations for each step. The report should be well-organized, clear, and concise. "
   ]
  },
  {
   "cell_type": "markdown",
   "id": "c93ef4bf",
   "metadata": {},
   "source": [
    "## Solution"
   ]
  },
  {
   "cell_type": "markdown",
   "id": "edd674cf",
   "metadata": {},
   "source": []
  },
  {
   "cell_type": "code",
   "execution_count": null,
   "id": "ac4c7fdc",
   "metadata": {},
   "outputs": [],
   "source": [
    "\n"
   ]
  },
  {
   "cell_type": "code",
   "execution_count": null,
   "id": "73590465",
   "metadata": {},
   "outputs": [],
   "source": []
  },
  {
   "cell_type": "code",
   "execution_count": null,
   "id": "efff5377",
   "metadata": {},
   "outputs": [],
   "source": []
  }
 ],
 "metadata": {
  "kernelspec": {
   "display_name": "Python 3 (ipykernel)",
   "language": "python",
   "name": "python3"
  },
  "language_info": {
   "codemirror_mode": {
    "name": "ipython",
    "version": 3
   },
   "file_extension": ".py",
   "mimetype": "text/x-python",
   "name": "python",
   "nbconvert_exporter": "python",
   "pygments_lexer": "ipython3",
   "version": "3.9.13"
  }
 },
 "nbformat": 4,
 "nbformat_minor": 5
}
